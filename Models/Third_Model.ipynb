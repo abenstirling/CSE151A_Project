{
 "cells": [
  {
   "cell_type": "markdown",
   "metadata": {},
   "source": [
    "This notebook is for our first Classification model. We will start with a basic CNN model just to test that our structure is set up properly. This file may be adjusted and/or replaced before we turn in Milestone 3."
   ]
  },
  {
   "cell_type": "code",
   "execution_count": 9,
   "metadata": {},
   "outputs": [
    {
     "name": "stdout",
     "output_type": "stream",
     "text": [
      "Requirement already satisfied: tensorflow in /usr/local/lib/python3.11/dist-packages (2.15.0.post1)\n",
      "Requirement already satisfied: absl-py>=1.0.0 in /usr/local/lib/python3.11/dist-packages (from tensorflow) (2.0.0)\n",
      "Requirement already satisfied: astunparse>=1.6.0 in /usr/local/lib/python3.11/dist-packages (from tensorflow) (1.6.3)\n",
      "Requirement already satisfied: flatbuffers>=23.5.26 in /usr/local/lib/python3.11/dist-packages (from tensorflow) (23.5.26)\n",
      "Requirement already satisfied: gast!=0.5.0,!=0.5.1,!=0.5.2,>=0.2.1 in /usr/local/lib/python3.11/dist-packages (from tensorflow) (0.5.4)\n",
      "Requirement already satisfied: google-pasta>=0.1.1 in /usr/local/lib/python3.11/dist-packages (from tensorflow) (0.2.0)\n",
      "Requirement already satisfied: h5py>=2.9.0 in /usr/local/lib/python3.11/dist-packages (from tensorflow) (3.10.0)\n",
      "Requirement already satisfied: libclang>=13.0.0 in /usr/local/lib/python3.11/dist-packages (from tensorflow) (16.0.6)\n",
      "Requirement already satisfied: ml-dtypes~=0.2.0 in /usr/local/lib/python3.11/dist-packages (from tensorflow) (0.2.0)\n",
      "Requirement already satisfied: numpy<2.0.0,>=1.23.5 in /usr/local/lib/python3.11/dist-packages (from tensorflow) (1.26.2)\n",
      "Requirement already satisfied: opt-einsum>=2.3.2 in /usr/local/lib/python3.11/dist-packages (from tensorflow) (3.3.0)\n",
      "Requirement already satisfied: packaging in /usr/local/lib/python3.11/dist-packages (from tensorflow) (23.2)\n",
      "Requirement already satisfied: protobuf!=4.21.0,!=4.21.1,!=4.21.2,!=4.21.3,!=4.21.4,!=4.21.5,<5.0.0dev,>=3.20.3 in /usr/local/lib/python3.11/dist-packages (from tensorflow) (4.23.4)\n",
      "Requirement already satisfied: setuptools in /usr/local/lib/python3.11/dist-packages (from tensorflow) (69.0.2)\n",
      "Requirement already satisfied: six>=1.12.0 in /usr/lib/python3/dist-packages (from tensorflow) (1.16.0)\n",
      "Requirement already satisfied: termcolor>=1.1.0 in /usr/local/lib/python3.11/dist-packages (from tensorflow) (2.4.0)\n",
      "Requirement already satisfied: typing-extensions>=3.6.6 in /usr/local/lib/python3.11/dist-packages (from tensorflow) (4.8.0)\n",
      "Requirement already satisfied: wrapt<1.15,>=1.11.0 in /usr/local/lib/python3.11/dist-packages (from tensorflow) (1.14.1)\n",
      "Requirement already satisfied: tensorflow-io-gcs-filesystem>=0.23.1 in /usr/local/lib/python3.11/dist-packages (from tensorflow) (0.34.0)\n",
      "Requirement already satisfied: grpcio<2.0,>=1.24.3 in /usr/local/lib/python3.11/dist-packages (from tensorflow) (1.59.3)\n",
      "Requirement already satisfied: tensorboard<2.16,>=2.15 in /usr/local/lib/python3.11/dist-packages (from tensorflow) (2.15.1)\n",
      "Requirement already satisfied: tensorflow-estimator<2.16,>=2.15.0 in /usr/local/lib/python3.11/dist-packages (from tensorflow) (2.15.0)\n",
      "Requirement already satisfied: keras<2.16,>=2.15.0 in /usr/local/lib/python3.11/dist-packages (from tensorflow) (2.15.0)\n",
      "Requirement already satisfied: wheel<1.0,>=0.23.0 in /usr/local/lib/python3.11/dist-packages (from astunparse>=1.6.0->tensorflow) (0.42.0)\n",
      "Requirement already satisfied: google-auth<3,>=1.6.3 in /usr/local/lib/python3.11/dist-packages (from tensorboard<2.16,>=2.15->tensorflow) (2.25.1)\n",
      "Requirement already satisfied: google-auth-oauthlib<2,>=0.5 in /usr/local/lib/python3.11/dist-packages (from tensorboard<2.16,>=2.15->tensorflow) (1.1.0)\n",
      "Requirement already satisfied: markdown>=2.6.8 in /usr/local/lib/python3.11/dist-packages (from tensorboard<2.16,>=2.15->tensorflow) (3.5.1)\n",
      "Requirement already satisfied: requests<3,>=2.21.0 in /usr/local/lib/python3.11/dist-packages (from tensorboard<2.16,>=2.15->tensorflow) (2.31.0)\n",
      "Requirement already satisfied: tensorboard-data-server<0.8.0,>=0.7.0 in /usr/local/lib/python3.11/dist-packages (from tensorboard<2.16,>=2.15->tensorflow) (0.7.2)\n",
      "Requirement already satisfied: werkzeug>=1.0.1 in /usr/local/lib/python3.11/dist-packages (from tensorboard<2.16,>=2.15->tensorflow) (3.0.1)\n",
      "Requirement already satisfied: cachetools<6.0,>=2.0.0 in /usr/local/lib/python3.11/dist-packages (from google-auth<3,>=1.6.3->tensorboard<2.16,>=2.15->tensorflow) (5.3.2)\n",
      "Requirement already satisfied: pyasn1-modules>=0.2.1 in /usr/local/lib/python3.11/dist-packages (from google-auth<3,>=1.6.3->tensorboard<2.16,>=2.15->tensorflow) (0.3.0)\n",
      "Requirement already satisfied: rsa<5,>=3.1.4 in /usr/local/lib/python3.11/dist-packages (from google-auth<3,>=1.6.3->tensorboard<2.16,>=2.15->tensorflow) (4.9)\n",
      "Requirement already satisfied: requests-oauthlib>=0.7.0 in /usr/local/lib/python3.11/dist-packages (from google-auth-oauthlib<2,>=0.5->tensorboard<2.16,>=2.15->tensorflow) (1.3.1)\n",
      "Requirement already satisfied: charset-normalizer<4,>=2 in /usr/local/lib/python3.11/dist-packages (from requests<3,>=2.21.0->tensorboard<2.16,>=2.15->tensorflow) (3.3.2)\n",
      "Requirement already satisfied: idna<4,>=2.5 in /usr/local/lib/python3.11/dist-packages (from requests<3,>=2.21.0->tensorboard<2.16,>=2.15->tensorflow) (3.6)\n",
      "Requirement already satisfied: urllib3<3,>=1.21.1 in /usr/local/lib/python3.11/dist-packages (from requests<3,>=2.21.0->tensorboard<2.16,>=2.15->tensorflow) (2.1.0)\n",
      "Requirement already satisfied: certifi>=2017.4.17 in /usr/local/lib/python3.11/dist-packages (from requests<3,>=2.21.0->tensorboard<2.16,>=2.15->tensorflow) (2023.11.17)\n",
      "Requirement already satisfied: MarkupSafe>=2.1.1 in /usr/local/lib/python3.11/dist-packages (from werkzeug>=1.0.1->tensorboard<2.16,>=2.15->tensorflow) (2.1.3)\n",
      "Requirement already satisfied: pyasn1<0.6.0,>=0.4.6 in /usr/local/lib/python3.11/dist-packages (from pyasn1-modules>=0.2.1->google-auth<3,>=1.6.3->tensorboard<2.16,>=2.15->tensorflow) (0.5.1)\n",
      "Requirement already satisfied: oauthlib>=3.0.0 in /usr/lib/python3/dist-packages (from requests-oauthlib>=0.7.0->google-auth-oauthlib<2,>=0.5->tensorboard<2.16,>=2.15->tensorflow) (3.2.0)\n",
      "^C\n",
      "\u001b[31mERROR: Operation cancelled by user\u001b[0m\u001b[31m\n",
      "\u001b[0m\n",
      "\u001b[1m[\u001b[0m\u001b[34;49mnotice\u001b[0m\u001b[1;39;49m]\u001b[0m\u001b[39;49m A new release of pip is available: \u001b[0m\u001b[31;49m23.3.1\u001b[0m\u001b[39;49m -> \u001b[0m\u001b[32;49m24.0\u001b[0m\n",
      "\u001b[1m[\u001b[0m\u001b[34;49mnotice\u001b[0m\u001b[1;39;49m]\u001b[0m\u001b[39;49m To update, run: \u001b[0m\u001b[32;49mpython3 -m pip install --upgrade pip\u001b[0m\n",
      "Requirement already satisfied: numpy in /usr/local/lib/python3.11/dist-packages (1.26.2)\n",
      "\u001b[33mWARNING: Running pip as the 'root' user can result in broken permissions and conflicting behaviour with the system package manager. It is recommended to use a virtual environment instead: https://pip.pypa.io/warnings/venv\u001b[0m\u001b[33m\n",
      "\u001b[0m\n",
      "\u001b[1m[\u001b[0m\u001b[34;49mnotice\u001b[0m\u001b[1;39;49m]\u001b[0m\u001b[39;49m A new release of pip is available: \u001b[0m\u001b[31;49m23.3.1\u001b[0m\u001b[39;49m -> \u001b[0m\u001b[32;49m24.0\u001b[0m\n",
      "\u001b[1m[\u001b[0m\u001b[34;49mnotice\u001b[0m\u001b[1;39;49m]\u001b[0m\u001b[39;49m To update, run: \u001b[0m\u001b[32;49mpython3 -m pip install --upgrade pip\u001b[0m\n",
      "Requirement already satisfied: matplotlib in /usr/local/lib/python3.11/dist-packages (3.8.2)\n",
      "Requirement already satisfied: contourpy>=1.0.1 in /usr/local/lib/python3.11/dist-packages (from matplotlib) (1.2.0)\n",
      "Requirement already satisfied: cycler>=0.10 in /usr/local/lib/python3.11/dist-packages (from matplotlib) (0.12.1)\n",
      "Requirement already satisfied: fonttools>=4.22.0 in /usr/local/lib/python3.11/dist-packages (from matplotlib) (4.46.0)\n",
      "Requirement already satisfied: kiwisolver>=1.3.1 in /usr/local/lib/python3.11/dist-packages (from matplotlib) (1.4.5)\n",
      "Requirement already satisfied: numpy<2,>=1.21 in /usr/local/lib/python3.11/dist-packages (from matplotlib) (1.26.2)\n",
      "Requirement already satisfied: packaging>=20.0 in /usr/local/lib/python3.11/dist-packages (from matplotlib) (23.2)\n",
      "Requirement already satisfied: pillow>=8 in /usr/local/lib/python3.11/dist-packages (from matplotlib) (10.1.0)\n",
      "Requirement already satisfied: pyparsing>=2.3.1 in /usr/lib/python3/dist-packages (from matplotlib) (2.4.7)\n",
      "Requirement already satisfied: python-dateutil>=2.7 in /usr/local/lib/python3.11/dist-packages (from matplotlib) (2.8.2)\n",
      "Requirement already satisfied: six>=1.5 in /usr/lib/python3/dist-packages (from python-dateutil>=2.7->matplotlib) (1.16.0)\n",
      "\u001b[33mWARNING: Running pip as the 'root' user can result in broken permissions and conflicting behaviour with the system package manager. It is recommended to use a virtual environment instead: https://pip.pypa.io/warnings/venv\u001b[0m\u001b[33m\n",
      "\u001b[0m\n",
      "\u001b[1m[\u001b[0m\u001b[34;49mnotice\u001b[0m\u001b[1;39;49m]\u001b[0m\u001b[39;49m A new release of pip is available: \u001b[0m\u001b[31;49m23.3.1\u001b[0m\u001b[39;49m -> \u001b[0m\u001b[32;49m24.0\u001b[0m\n",
      "\u001b[1m[\u001b[0m\u001b[34;49mnotice\u001b[0m\u001b[1;39;49m]\u001b[0m\u001b[39;49m To update, run: \u001b[0m\u001b[32;49mpython3 -m pip install --upgrade pip\u001b[0m\n",
      "Collecting sklearn\n",
      "  Using cached sklearn-0.0.post12.tar.gz (2.6 kB)\n",
      "  Preparing metadata (setup.py) ... \u001b[?25lerror\n",
      "  \u001b[1;31merror\u001b[0m: \u001b[1msubprocess-exited-with-error\u001b[0m\n",
      "  \n",
      "  \u001b[31m×\u001b[0m \u001b[32mpython setup.py egg_info\u001b[0m did not run successfully.\n",
      "  \u001b[31m│\u001b[0m exit code: \u001b[1;36m1\u001b[0m\n",
      "  \u001b[31m╰─>\u001b[0m \u001b[31m[15 lines of output]\u001b[0m\n",
      "  \u001b[31m   \u001b[0m The 'sklearn' PyPI package is deprecated, use 'scikit-learn'\n",
      "  \u001b[31m   \u001b[0m rather than 'sklearn' for pip commands.\n",
      "  \u001b[31m   \u001b[0m \n",
      "  \u001b[31m   \u001b[0m Here is how to fix this error in the main use cases:\n",
      "  \u001b[31m   \u001b[0m - use 'pip install scikit-learn' rather than 'pip install sklearn'\n",
      "  \u001b[31m   \u001b[0m - replace 'sklearn' by 'scikit-learn' in your pip requirements files\n",
      "  \u001b[31m   \u001b[0m   (requirements.txt, setup.py, setup.cfg, Pipfile, etc ...)\n",
      "  \u001b[31m   \u001b[0m - if the 'sklearn' package is used by one of your dependencies,\n",
      "  \u001b[31m   \u001b[0m   it would be great if you take some time to track which package uses\n",
      "  \u001b[31m   \u001b[0m   'sklearn' instead of 'scikit-learn' and report it to their issue tracker\n",
      "  \u001b[31m   \u001b[0m - as a last resort, set the environment variable\n",
      "  \u001b[31m   \u001b[0m   SKLEARN_ALLOW_DEPRECATED_SKLEARN_PACKAGE_INSTALL=True to avoid this error\n",
      "  \u001b[31m   \u001b[0m \n",
      "  \u001b[31m   \u001b[0m More information is available at\n",
      "  \u001b[31m   \u001b[0m https://github.com/scikit-learn/sklearn-pypi-package\n",
      "  \u001b[31m   \u001b[0m \u001b[31m[end of output]\u001b[0m\n",
      "  \n",
      "  \u001b[1;35mnote\u001b[0m: This error originates from a subprocess, and is likely not a problem with pip.\n",
      "\u001b[1;31merror\u001b[0m: \u001b[1mmetadata-generation-failed\u001b[0m\n",
      "\n",
      "\u001b[31m×\u001b[0m Encountered error while generating package metadata.\n",
      "\u001b[31m╰─>\u001b[0m See above for output.\n",
      "\n",
      "\u001b[1;35mnote\u001b[0m: This is an issue with the package mentioned above, not pip.\n",
      "\u001b[1;36mhint\u001b[0m: See above for details.\n",
      "\n",
      "\u001b[1m[\u001b[0m\u001b[34;49mnotice\u001b[0m\u001b[1;39;49m]\u001b[0m\u001b[39;49m A new release of pip is available: \u001b[0m\u001b[31;49m23.3.1\u001b[0m\u001b[39;49m -> \u001b[0m\u001b[32;49m24.0\u001b[0m\n",
      "\u001b[1m[\u001b[0m\u001b[34;49mnotice\u001b[0m\u001b[1;39;49m]\u001b[0m\u001b[39;49m To update, run: \u001b[0m\u001b[32;49mpython3 -m pip install --upgrade pip\u001b[0m\n",
      "\u001b[?25hRequirement already satisfied: scikit-image in /usr/local/lib/python3.11/dist-packages (0.22.0)\n",
      "Requirement already satisfied: scikit-learn in /usr/local/lib/python3.11/dist-packages (1.4.1.post1)\n",
      "Requirement already satisfied: numpy>=1.22 in /usr/local/lib/python3.11/dist-packages (from scikit-image) (1.26.2)\n",
      "Requirement already satisfied: scipy>=1.8 in /usr/local/lib/python3.11/dist-packages (from scikit-image) (1.12.0)\n",
      "Requirement already satisfied: networkx>=2.8 in /usr/local/lib/python3.11/dist-packages (from scikit-image) (3.2.1)\n",
      "Requirement already satisfied: pillow>=9.0.1 in /usr/local/lib/python3.11/dist-packages (from scikit-image) (10.1.0)\n",
      "Requirement already satisfied: imageio>=2.27 in /usr/local/lib/python3.11/dist-packages (from scikit-image) (2.34.0)\n",
      "Requirement already satisfied: tifffile>=2022.8.12 in /usr/local/lib/python3.11/dist-packages (from scikit-image) (2024.2.12)\n",
      "Requirement already satisfied: packaging>=21 in /usr/local/lib/python3.11/dist-packages (from scikit-image) (23.2)\n",
      "Requirement already satisfied: lazy_loader>=0.3 in /usr/local/lib/python3.11/dist-packages (from scikit-image) (0.3)\n",
      "Requirement already satisfied: joblib>=1.2.0 in /usr/local/lib/python3.11/dist-packages (from scikit-learn) (1.3.2)\n",
      "Requirement already satisfied: threadpoolctl>=2.0.0 in /usr/local/lib/python3.11/dist-packages (from scikit-learn) (3.3.0)\n",
      "\u001b[33mWARNING: Running pip as the 'root' user can result in broken permissions and conflicting behaviour with the system package manager. It is recommended to use a virtual environment instead: https://pip.pypa.io/warnings/venv\u001b[0m\u001b[33m\n",
      "\u001b[0m\n",
      "\u001b[1m[\u001b[0m\u001b[34;49mnotice\u001b[0m\u001b[1;39;49m]\u001b[0m\u001b[39;49m A new release of pip is available: \u001b[0m\u001b[31;49m23.3.1\u001b[0m\u001b[39;49m -> \u001b[0m\u001b[32;49m24.0\u001b[0m\n",
      "\u001b[1m[\u001b[0m\u001b[34;49mnotice\u001b[0m\u001b[1;39;49m]\u001b[0m\u001b[39;49m To update, run: \u001b[0m\u001b[32;49mpython3 -m pip install --upgrade pip\u001b[0m\n"
     ]
    }
   ],
   "source": [
    "# Install libraries\n",
    "!pip install tensorflow\n",
    "!pip install numpy\n",
    "!pip install matplotlib\n",
    "!pip install sklearn\n",
    "!pip install scikit-image scikit-learn"
   ]
  },
  {
   "cell_type": "code",
   "execution_count": null,
   "metadata": {},
   "outputs": [
    {
     "name": "stderr",
     "output_type": "stream",
     "text": [
      "2024-03-16 05:20:59.907232: I tensorflow/core/util/port.cc:113] oneDNN custom operations are on. You may see slightly different numerical results due to floating-point round-off errors from different computation orders. To turn them off, set the environment variable `TF_ENABLE_ONEDNN_OPTS=0`.\n",
      "2024-03-16 05:21:00.093596: E external/local_xla/xla/stream_executor/cuda/cuda_dnn.cc:9261] Unable to register cuDNN factory: Attempting to register factory for plugin cuDNN when one has already been registered\n",
      "2024-03-16 05:21:00.093619: E external/local_xla/xla/stream_executor/cuda/cuda_fft.cc:607] Unable to register cuFFT factory: Attempting to register factory for plugin cuFFT when one has already been registered\n",
      "2024-03-16 05:21:00.103128: E external/local_xla/xla/stream_executor/cuda/cuda_blas.cc:1515] Unable to register cuBLAS factory: Attempting to register factory for plugin cuBLAS when one has already been registered\n",
      "2024-03-16 05:21:00.121424: I tensorflow/core/platform/cpu_feature_guard.cc:182] This TensorFlow binary is optimized to use available CPU instructions in performance-critical operations.\n",
      "To enable the following instructions: AVX2 AVX_VNNI FMA, in other operations, rebuild TensorFlow with the appropriate compiler flags.\n"
     ]
    }
   ],
   "source": [
    "# Imports\n",
    "import numpy as np\n",
    "import matplotlib.pyplot as plt\n",
    "import tensorflow as tf\n",
    "from tensorflow.keras import layers, models \n",
    "from tensorflow.keras.layers import Conv2D, MaxPooling2D, Flatten, Dense, concatenate, InputLayer\n",
    "from tensorflow.keras.models import Sequential\n",
    "from tensorflow.keras.optimizers import Adam\n",
    "from sklearn.model_selection import train_test_split"
   ]
  },
  {
   "cell_type": "code",
   "execution_count": null,
   "metadata": {},
   "outputs": [
    {
     "name": "stdout",
     "output_type": "stream",
     "text": [
      "Reading folder bathroom\n",
      "Reading folder bedroom\n",
      "Reading folder children_room\n",
      "Reading folder corridor\n",
      "Reading folder dining_room\n",
      "Reading folder garage\n",
      "Reading folder kitchen\n",
      "Reading folder laundry\n",
      "Reading folder livingroom\n",
      "Reading folder nursery\n",
      "Reading folder pantry\n",
      "Reading folder \n"
     ]
    },
    {
     "data": {
      "text/plain": [
       "[]"
      ]
     },
     "execution_count": 8,
     "metadata": {},
     "output_type": "execute_result"
    }
   ],
   "source": [
    "# ./cvpr_depth/bathroom, bedroom, etc\n",
    "import torch\n",
    "from typing import List\n",
    "from PIL import Image\n",
    "from skimage.transform import resize_local_mean\n",
    "\n",
    "home_image_folders_str = \"\"\"bathroom\n",
    "bedroom\n",
    "children_room\n",
    "corridor\n",
    "dining_room\n",
    "garage\n",
    "kitchen\n",
    "laundry\n",
    "livingroom\n",
    "nursery\n",
    "pantry\n",
    "\"\"\"\n",
    "home_room_folders = home_image_folders_str.split('\\n')\n",
    "\n",
    "from pathlib import Path\n",
    "import os\n",
    "def enumerate_data_folder(folder: str) -> List[Path]:\n",
    "    path = Path(f\"../data/cvpr_raw/indoorCVPR_09/Images/{folder}\")\n",
    "    return list(path.glob(\"*\"))\n",
    "\n",
    "def get_all_data():\n",
    "    out = []\n",
    "    for folder in home_room_folders:\n",
    "        print(f\"Reading folder {folder}\")\n",
    "        for image_path in enumerate_data_folder(folder):\n",
    "            if not os.path.isfile(image_path):\n",
    "                continue\n",
    "\n",
    "            img = np.asarray(Image.open(image_path).convert('RGB'))\n",
    "            if img.dtype != np.uint8 and img.dtype != np.int8:\n",
    "                print(f\"got unrecognized image dtype {img.dtype}\")\n",
    "            img = img.astype(np.float32)\n",
    "            # scale RGB values to [0, 1]\n",
    "            img = img / 255.\n",
    "            depth = torch.load(f\"./cvpr_depth/{folder}/{image_path.name}.pt\").cpu().numpy().squeeze()\n",
    "\n",
    "            img = resize_local_mean(img, output_shape=(64, 64))\n",
    "            depth = resize_local_mean(depth, output_shape=(64, 64))\n",
    "\n",
    "            depth = depth.reshape((64, 64, 1))\n",
    "\n",
    "            final = np.concatenate((img, depth), axis=-1)\n",
    "            out.append((final, folder))\n",
    "    return out\n",
    "\n",
    "\n",
    "data = get_all_data()\n",
    "data"
   ]
  },
  {
   "cell_type": "code",
   "execution_count": null,
   "metadata": {},
   "outputs": [
    {
     "data": {
      "text/plain": [
       "array([], dtype=float64)"
      ]
     },
     "metadata": {},
     "output_type": "display_data"
    },
    {
     "data": {
      "text/plain": [
       "array([], dtype=float64)"
      ]
     },
     "metadata": {},
     "output_type": "display_data"
    },
    {
     "data": {
      "text/plain": [
       "(0,)"
      ]
     },
     "metadata": {},
     "output_type": "display_data"
    },
    {
     "data": {
      "text/plain": [
       "(0,)"
      ]
     },
     "metadata": {},
     "output_type": "display_data"
    }
   ],
   "source": [
    "X = []\n",
    "y = []\n",
    "for arr, label in data:\n",
    "    X.append(arr)\n",
    "    y.append(label)\n",
    "\n",
    "X = np.asarray(X)\n",
    "y = np.asarray(y)\n",
    "display(X)\n",
    "display(y)\n",
    "display(X.shape)\n",
    "display(y.shape)"
   ]
  },
  {
   "cell_type": "code",
   "execution_count": null,
   "metadata": {},
   "outputs": [],
   "source": [
    "\n"
   ]
  },
  {
   "cell_type": "code",
   "execution_count": null,
   "metadata": {},
   "outputs": [],
   "source": [
    "#from sklearn.preprocessing import OneHotEncoder\n",
    "\n",
    "#encoder = OneHotEncoder(sparse_output=False)\n",
    "#encoder.fit_transform(X=np.asarray(list(set(y))).reshape(-1, 1))\n",
    "#y = encoder.transform(y.reshape(-1, 1))\n",
    "#y.shape"
   ]
  },
  {
   "cell_type": "code",
   "execution_count": null,
   "metadata": {},
   "outputs": [
    {
     "name": "stdout",
     "output_type": "stream",
     "text": [
      "Shape of X: (3653, 64, 64, 4)\n",
      "Shape of y: (3653,)\n"
     ]
    },
    {
     "data": {
      "text/plain": [
       "array([[1., 0., 0., ..., 0., 0., 0.],\n",
       "       [1., 0., 0., ..., 0., 0., 0.],\n",
       "       [1., 0., 0., ..., 0., 0., 0.],\n",
       "       ...,\n",
       "       [0., 0., 0., ..., 0., 0., 1.],\n",
       "       [0., 0., 0., ..., 0., 0., 1.],\n",
       "       [0., 0., 0., ..., 0., 0., 1.]])"
      ]
     },
     "execution_count": 2,
     "metadata": {},
     "output_type": "execute_result"
    }
   ],
   "source": [
    "from sklearn.preprocessing import OneHotEncoder\n",
    "# Split the data into test and train\n",
    "# np.savez(\"./scaled_processed_data.npz\", X=X, y=y)\n",
    "data = np.load(\"scaled_processed_data.npz\")\n",
    "X = data[\"X\"]\n",
    "y = data[\"y\"]\n",
    "\n",
    "print(\"Shape of X:\", X.shape)\n",
    "print(\"Shape of y:\", y.shape)\n",
    "\n",
    "encoder = OneHotEncoder(sparse_output=False)\n",
    "y = encoder.fit_transform(y.reshape(-1, 1))\n",
    "y"
   ]
  },
  {
   "cell_type": "code",
   "execution_count": 12,
   "metadata": {},
   "outputs": [
    {
     "data": {
      "text/plain": [
       "(2922, 64, 64, 4)"
      ]
     },
     "metadata": {},
     "output_type": "display_data"
    },
    {
     "data": {
      "text/plain": [
       "(731, 64, 64, 4)"
      ]
     },
     "metadata": {},
     "output_type": "display_data"
    },
    {
     "data": {
      "text/plain": [
       "(2922, 10)"
      ]
     },
     "metadata": {},
     "output_type": "display_data"
    },
    {
     "data": {
      "text/plain": [
       "(731, 10)"
      ]
     },
     "metadata": {},
     "output_type": "display_data"
    },
    {
     "name": "stdout",
     "output_type": "stream",
     "text": [
      "Epoch 1/125\n"
     ]
    },
    {
     "name": "stderr",
     "output_type": "stream",
     "text": [
      "2024-03-16 05:43:18.543142: E tensorflow/core/grappler/optimizers/meta_optimizer.cc:961] layout failed: INVALID_ARGUMENT: Size of values 0 does not match size of permutation 4 @ fanin shape inmodel_7/dropout_26/dropout/SelectV2-2-TransposeNHWCToNCHW-LayoutOptimizer\n"
     ]
    },
    {
     "name": "stdout",
     "output_type": "stream",
     "text": [
      "92/92 [==============================] - 4s 16ms/step - loss: 3.0215 - accuracy: 0.2348 - val_loss: 3.0445 - val_accuracy: 0.1765 - lr: 1.0000e-04\n",
      "Epoch 2/125\n",
      "92/92 [==============================] - 1s 14ms/step - loss: 2.7360 - accuracy: 0.3371 - val_loss: 3.1267 - val_accuracy: 0.2011 - lr: 1.0000e-04\n",
      "Epoch 3/125\n",
      "92/92 [==============================] - 1s 14ms/step - loss: 2.5496 - accuracy: 0.4008 - val_loss: 3.3681 - val_accuracy: 0.2038 - lr: 1.0000e-04\n",
      "Epoch 4/125\n",
      "92/92 [==============================] - 1s 14ms/step - loss: 2.4327 - accuracy: 0.4343 - val_loss: 3.3246 - val_accuracy: 0.2503 - lr: 1.0000e-04\n",
      "Epoch 5/125\n",
      "92/92 [==============================] - 1s 14ms/step - loss: 2.3355 - accuracy: 0.4524 - val_loss: 3.1294 - val_accuracy: 0.2503 - lr: 1.0000e-04\n",
      "Epoch 6/125\n",
      "92/92 [==============================] - 1s 14ms/step - loss: 2.2672 - accuracy: 0.4802 - val_loss: 2.6375 - val_accuracy: 0.3119 - lr: 1.0000e-04\n",
      "Epoch 7/125\n",
      "92/92 [==============================] - 1s 14ms/step - loss: 2.1994 - accuracy: 0.5116 - val_loss: 2.3322 - val_accuracy: 0.4090 - lr: 1.0000e-04\n",
      "Epoch 8/125\n",
      "92/92 [==============================] - 1s 14ms/step - loss: 2.1662 - accuracy: 0.5257 - val_loss: 2.2492 - val_accuracy: 0.4501 - lr: 1.0000e-04\n",
      "Epoch 9/125\n",
      "92/92 [==============================] - 1s 14ms/step - loss: 2.1144 - accuracy: 0.5400 - val_loss: 2.1175 - val_accuracy: 0.5349 - lr: 1.0000e-04\n",
      "Epoch 10/125\n",
      "92/92 [==============================] - 1s 14ms/step - loss: 2.0936 - accuracy: 0.5445 - val_loss: 1.9919 - val_accuracy: 0.5937 - lr: 1.0000e-04\n",
      "Epoch 11/125\n",
      "92/92 [==============================] - 1s 14ms/step - loss: 2.0447 - accuracy: 0.5507 - val_loss: 2.1860 - val_accuracy: 0.4884 - lr: 1.0000e-04\n",
      "Epoch 12/125\n",
      "92/92 [==============================] - 1s 14ms/step - loss: 2.0056 - accuracy: 0.5695 - val_loss: 1.9719 - val_accuracy: 0.5896 - lr: 1.0000e-04\n",
      "Epoch 13/125\n",
      "92/92 [==============================] - 1s 14ms/step - loss: 1.9885 - accuracy: 0.5726 - val_loss: 2.3699 - val_accuracy: 0.4528 - lr: 1.0000e-04\n",
      "Epoch 14/125\n",
      "92/92 [==============================] - 1s 14ms/step - loss: 1.9627 - accuracy: 0.5773 - val_loss: 1.9331 - val_accuracy: 0.5951 - lr: 1.0000e-04\n",
      "Epoch 15/125\n",
      "92/92 [==============================] - 1s 14ms/step - loss: 1.9359 - accuracy: 0.5849 - val_loss: 2.2329 - val_accuracy: 0.4911 - lr: 1.0000e-04\n",
      "Epoch 16/125\n",
      "92/92 [==============================] - 1s 14ms/step - loss: 1.9244 - accuracy: 0.5927 - val_loss: 2.0289 - val_accuracy: 0.5458 - lr: 1.0000e-04\n",
      "Epoch 17/125\n",
      "92/92 [==============================] - 1s 14ms/step - loss: 1.8921 - accuracy: 0.5876 - val_loss: 1.9265 - val_accuracy: 0.5800 - lr: 1.0000e-04\n",
      "Epoch 18/125\n",
      "92/92 [==============================] - 1s 14ms/step - loss: 1.8782 - accuracy: 0.6003 - val_loss: 2.2511 - val_accuracy: 0.4720 - lr: 1.0000e-04\n",
      "Epoch 19/125\n",
      "92/92 [==============================] - 1s 14ms/step - loss: 1.8772 - accuracy: 0.5989 - val_loss: 1.8800 - val_accuracy: 0.6060 - lr: 1.0000e-04\n",
      "Epoch 20/125\n",
      "92/92 [==============================] - 1s 14ms/step - loss: 1.8536 - accuracy: 0.6099 - val_loss: 1.9796 - val_accuracy: 0.5513 - lr: 1.0000e-04\n",
      "Epoch 21/125\n",
      "92/92 [==============================] - 1s 14ms/step - loss: 1.8266 - accuracy: 0.6150 - val_loss: 1.8747 - val_accuracy: 0.5964 - lr: 1.0000e-04\n",
      "Epoch 22/125\n",
      "92/92 [==============================] - 1s 14ms/step - loss: 1.7919 - accuracy: 0.6328 - val_loss: 2.4373 - val_accuracy: 0.4378 - lr: 1.0000e-04\n",
      "Epoch 23/125\n",
      "92/92 [==============================] - 1s 14ms/step - loss: 1.7518 - accuracy: 0.6396 - val_loss: 1.8177 - val_accuracy: 0.6224 - lr: 1.0000e-04\n",
      "Epoch 24/125\n",
      "92/92 [==============================] - 1s 14ms/step - loss: 1.7517 - accuracy: 0.6283 - val_loss: 2.1388 - val_accuracy: 0.5212 - lr: 1.0000e-04\n",
      "Epoch 25/125\n",
      "92/92 [==============================] - 1s 14ms/step - loss: 1.7640 - accuracy: 0.6359 - val_loss: 1.8501 - val_accuracy: 0.6033 - lr: 1.0000e-04\n",
      "Epoch 26/125\n",
      "92/92 [==============================] - 1s 14ms/step - loss: 1.7300 - accuracy: 0.6537 - val_loss: 2.8148 - val_accuracy: 0.3981 - lr: 1.0000e-04\n",
      "Epoch 27/125\n",
      "92/92 [==============================] - 1s 14ms/step - loss: 1.6878 - accuracy: 0.6615 - val_loss: 1.9901 - val_accuracy: 0.5527 - lr: 1.0000e-04\n",
      "Epoch 28/125\n",
      "92/92 [==============================] - 1s 14ms/step - loss: 1.6803 - accuracy: 0.6626 - val_loss: 2.1875 - val_accuracy: 0.5212 - lr: 1.0000e-04\n",
      "Epoch 29/125\n",
      "92/92 [==============================] - 1s 14ms/step - loss: 1.6583 - accuracy: 0.6632 - val_loss: 2.1773 - val_accuracy: 0.5048 - lr: 5.0000e-05\n",
      "Epoch 30/125\n",
      "92/92 [==============================] - 1s 15ms/step - loss: 1.6178 - accuracy: 0.6773 - val_loss: 2.3747 - val_accuracy: 0.4829 - lr: 5.0000e-05\n",
      "Epoch 31/125\n",
      "92/92 [==============================] - 1s 14ms/step - loss: 1.6249 - accuracy: 0.6841 - val_loss: 2.0797 - val_accuracy: 0.5390 - lr: 5.0000e-05\n",
      "Epoch 32/125\n",
      "92/92 [==============================] - 1s 14ms/step - loss: 1.6129 - accuracy: 0.6797 - val_loss: 1.9309 - val_accuracy: 0.5951 - lr: 5.0000e-05\n",
      "Epoch 33/125\n",
      "92/92 [==============================] - 1s 14ms/step - loss: 1.5996 - accuracy: 0.6930 - val_loss: 1.8602 - val_accuracy: 0.6101 - lr: 5.0000e-05\n",
      "Epoch 34/125\n",
      "92/92 [==============================] - 1s 14ms/step - loss: 1.5733 - accuracy: 0.6937 - val_loss: 1.9635 - val_accuracy: 0.5595 - lr: 2.5000e-05\n",
      "Epoch 35/125\n",
      "92/92 [==============================] - 1s 14ms/step - loss: 1.5886 - accuracy: 0.6899 - val_loss: 1.8070 - val_accuracy: 0.6265 - lr: 2.5000e-05\n",
      "Epoch 36/125\n",
      "92/92 [==============================] - 1s 14ms/step - loss: 1.5738 - accuracy: 0.6999 - val_loss: 1.7705 - val_accuracy: 0.6389 - lr: 2.5000e-05\n",
      "Epoch 37/125\n",
      "92/92 [==============================] - 1s 14ms/step - loss: 1.5435 - accuracy: 0.7183 - val_loss: 1.8384 - val_accuracy: 0.6156 - lr: 2.5000e-05\n",
      "Epoch 38/125\n",
      "92/92 [==============================] - 1s 14ms/step - loss: 1.5340 - accuracy: 0.7156 - val_loss: 1.7795 - val_accuracy: 0.6361 - lr: 2.5000e-05\n",
      "Epoch 39/125\n",
      "92/92 [==============================] - 1s 14ms/step - loss: 1.5421 - accuracy: 0.7064 - val_loss: 1.9742 - val_accuracy: 0.6005 - lr: 2.5000e-05\n",
      "Epoch 40/125\n",
      "92/92 [==============================] - 1s 14ms/step - loss: 1.5403 - accuracy: 0.7108 - val_loss: 1.7986 - val_accuracy: 0.6183 - lr: 2.5000e-05\n",
      "Epoch 41/125\n",
      "92/92 [==============================] - 1s 14ms/step - loss: 1.5495 - accuracy: 0.7016 - val_loss: 1.7727 - val_accuracy: 0.6457 - lr: 2.5000e-05\n",
      "Epoch 42/125\n",
      "92/92 [==============================] - 1s 14ms/step - loss: 1.5164 - accuracy: 0.7225 - val_loss: 1.9231 - val_accuracy: 0.5951 - lr: 1.2500e-05\n",
      "Epoch 43/125\n",
      "92/92 [==============================] - 1s 15ms/step - loss: 1.5105 - accuracy: 0.7166 - val_loss: 1.8719 - val_accuracy: 0.6033 - lr: 1.2500e-05\n",
      "Epoch 44/125\n",
      "92/92 [==============================] - 1s 14ms/step - loss: 1.5225 - accuracy: 0.7105 - val_loss: 1.8230 - val_accuracy: 0.6293 - lr: 1.2500e-05\n",
      "Epoch 45/125\n",
      "92/92 [==============================] - 1s 14ms/step - loss: 1.4987 - accuracy: 0.7190 - val_loss: 1.7442 - val_accuracy: 0.6484 - lr: 1.2500e-05\n",
      "Epoch 46/125\n",
      "92/92 [==============================] - 1s 14ms/step - loss: 1.5268 - accuracy: 0.7132 - val_loss: 1.8156 - val_accuracy: 0.6320 - lr: 1.2500e-05\n",
      "Epoch 47/125\n",
      "92/92 [==============================] - 1s 14ms/step - loss: 1.5060 - accuracy: 0.7225 - val_loss: 1.8226 - val_accuracy: 0.6389 - lr: 1.2500e-05\n",
      "Epoch 48/125\n",
      "92/92 [==============================] - 1s 14ms/step - loss: 1.5206 - accuracy: 0.7173 - val_loss: 1.7813 - val_accuracy: 0.6320 - lr: 1.2500e-05\n",
      "Epoch 49/125\n",
      "92/92 [==============================] - 1s 14ms/step - loss: 1.5194 - accuracy: 0.7149 - val_loss: 1.9199 - val_accuracy: 0.5937 - lr: 1.2500e-05\n",
      "Epoch 50/125\n",
      "92/92 [==============================] - 1s 14ms/step - loss: 1.5085 - accuracy: 0.7204 - val_loss: 1.7610 - val_accuracy: 0.6553 - lr: 1.2500e-05\n",
      "Epoch 51/125\n",
      "92/92 [==============================] - 1s 14ms/step - loss: 1.4855 - accuracy: 0.7272 - val_loss: 1.7714 - val_accuracy: 0.6416 - lr: 6.2500e-06\n",
      "Epoch 52/125\n",
      "92/92 [==============================] - 1s 14ms/step - loss: 1.4963 - accuracy: 0.7235 - val_loss: 1.7350 - val_accuracy: 0.6580 - lr: 6.2500e-06\n",
      "Epoch 53/125\n",
      "92/92 [==============================] - 1s 14ms/step - loss: 1.4873 - accuracy: 0.7262 - val_loss: 1.7417 - val_accuracy: 0.6621 - lr: 6.2500e-06\n",
      "Epoch 54/125\n",
      "92/92 [==============================] - 1s 14ms/step - loss: 1.5018 - accuracy: 0.7180 - val_loss: 1.7718 - val_accuracy: 0.6443 - lr: 6.2500e-06\n",
      "Epoch 55/125\n",
      "92/92 [==============================] - 1s 14ms/step - loss: 1.5011 - accuracy: 0.7259 - val_loss: 1.7572 - val_accuracy: 0.6457 - lr: 6.2500e-06\n",
      "Epoch 56/125\n",
      "92/92 [==============================] - 1s 14ms/step - loss: 1.5029 - accuracy: 0.7187 - val_loss: 1.7293 - val_accuracy: 0.6662 - lr: 6.2500e-06\n",
      "Epoch 57/125\n",
      "92/92 [==============================] - 1s 14ms/step - loss: 1.4865 - accuracy: 0.7118 - val_loss: 1.7515 - val_accuracy: 0.6457 - lr: 6.2500e-06\n",
      "Epoch 58/125\n",
      "92/92 [==============================] - 1s 14ms/step - loss: 1.4891 - accuracy: 0.7286 - val_loss: 1.7875 - val_accuracy: 0.6306 - lr: 6.2500e-06\n",
      "Epoch 59/125\n",
      "92/92 [==============================] - 1s 14ms/step - loss: 1.4869 - accuracy: 0.7276 - val_loss: 1.7481 - val_accuracy: 0.6676 - lr: 6.2500e-06\n",
      "Epoch 60/125\n",
      "92/92 [==============================] - 1s 14ms/step - loss: 1.4918 - accuracy: 0.7204 - val_loss: 1.8227 - val_accuracy: 0.6238 - lr: 6.2500e-06\n",
      "Epoch 61/125\n",
      "92/92 [==============================] - 1s 14ms/step - loss: 1.4817 - accuracy: 0.7235 - val_loss: 1.7418 - val_accuracy: 0.6566 - lr: 6.2500e-06\n",
      "Epoch 62/125\n",
      "92/92 [==============================] - 1s 14ms/step - loss: 1.4869 - accuracy: 0.7207 - val_loss: 1.7711 - val_accuracy: 0.6484 - lr: 3.1250e-06\n",
      "Epoch 63/125\n",
      "92/92 [==============================] - 1s 14ms/step - loss: 1.4881 - accuracy: 0.7166 - val_loss: 1.7175 - val_accuracy: 0.6594 - lr: 3.1250e-06\n",
      "Epoch 64/125\n",
      "92/92 [==============================] - 1s 14ms/step - loss: 1.4584 - accuracy: 0.7361 - val_loss: 1.7239 - val_accuracy: 0.6607 - lr: 3.1250e-06\n",
      "Epoch 65/125\n",
      "92/92 [==============================] - 1s 14ms/step - loss: 1.4663 - accuracy: 0.7276 - val_loss: 1.7292 - val_accuracy: 0.6594 - lr: 3.1250e-06\n",
      "Epoch 66/125\n",
      "92/92 [==============================] - 1s 14ms/step - loss: 1.4663 - accuracy: 0.7238 - val_loss: 1.7187 - val_accuracy: 0.6635 - lr: 3.1250e-06\n",
      "Epoch 67/125\n",
      "92/92 [==============================] - 1s 14ms/step - loss: 1.4835 - accuracy: 0.7248 - val_loss: 1.7552 - val_accuracy: 0.6484 - lr: 3.1250e-06\n",
      "Epoch 68/125\n",
      "92/92 [==============================] - 1s 14ms/step - loss: 1.4661 - accuracy: 0.7279 - val_loss: 1.7643 - val_accuracy: 0.6484 - lr: 3.1250e-06\n",
      "Epoch 69/125\n",
      "92/92 [==============================] - 1s 14ms/step - loss: 1.4653 - accuracy: 0.7283 - val_loss: 1.7455 - val_accuracy: 0.6580 - lr: 1.5625e-06\n",
      "Epoch 70/125\n",
      "92/92 [==============================] - 1s 14ms/step - loss: 1.4725 - accuracy: 0.7365 - val_loss: 1.7491 - val_accuracy: 0.6512 - lr: 1.5625e-06\n",
      "Epoch 71/125\n",
      "92/92 [==============================] - 1s 14ms/step - loss: 1.4625 - accuracy: 0.7348 - val_loss: 1.7323 - val_accuracy: 0.6635 - lr: 1.5625e-06\n",
      "Epoch 72/125\n",
      "92/92 [==============================] - 1s 14ms/step - loss: 1.4789 - accuracy: 0.7214 - val_loss: 1.7519 - val_accuracy: 0.6539 - lr: 1.5625e-06\n",
      "Epoch 73/125\n",
      "92/92 [==============================] - 1s 14ms/step - loss: 1.4701 - accuracy: 0.7300 - val_loss: 1.7278 - val_accuracy: 0.6580 - lr: 1.5625e-06\n",
      "Epoch 74/125\n",
      "92/92 [==============================] - 1s 14ms/step - loss: 1.4769 - accuracy: 0.7355 - val_loss: 1.7286 - val_accuracy: 0.6635 - lr: 1.0000e-06\n",
      "Epoch 75/125\n",
      "92/92 [==============================] - 1s 14ms/step - loss: 1.4813 - accuracy: 0.7228 - val_loss: 1.7360 - val_accuracy: 0.6648 - lr: 1.0000e-06\n",
      "Epoch 76/125\n",
      "92/92 [==============================] - 1s 14ms/step - loss: 1.4790 - accuracy: 0.7238 - val_loss: 1.7498 - val_accuracy: 0.6525 - lr: 1.0000e-06\n",
      "Epoch 77/125\n",
      "92/92 [==============================] - 1s 14ms/step - loss: 1.4803 - accuracy: 0.7303 - val_loss: 1.7559 - val_accuracy: 0.6512 - lr: 1.0000e-06\n",
      "Epoch 78/125\n",
      "92/92 [==============================] - 1s 14ms/step - loss: 1.4771 - accuracy: 0.7248 - val_loss: 1.7281 - val_accuracy: 0.6621 - lr: 1.0000e-06\n",
      "Epoch 79/125\n",
      "92/92 [==============================] - 1s 14ms/step - loss: 1.4732 - accuracy: 0.7290 - val_loss: 1.7324 - val_accuracy: 0.6648 - lr: 1.0000e-06\n",
      "Epoch 80/125\n",
      "92/92 [==============================] - 1s 14ms/step - loss: 1.4802 - accuracy: 0.7221 - val_loss: 1.7357 - val_accuracy: 0.6648 - lr: 1.0000e-06\n",
      "Epoch 81/125\n",
      "92/92 [==============================] - 1s 14ms/step - loss: 1.4613 - accuracy: 0.7402 - val_loss: 1.7370 - val_accuracy: 0.6607 - lr: 1.0000e-06\n",
      "Epoch 82/125\n",
      "92/92 [==============================] - 1s 14ms/step - loss: 1.4830 - accuracy: 0.7262 - val_loss: 1.7354 - val_accuracy: 0.6621 - lr: 1.0000e-06\n",
      "Epoch 83/125\n",
      "92/92 [==============================] - 1s 14ms/step - loss: 1.4664 - accuracy: 0.7218 - val_loss: 1.7388 - val_accuracy: 0.6566 - lr: 1.0000e-06\n",
      "Epoch 84/125\n",
      "92/92 [==============================] - 1s 14ms/step - loss: 1.4632 - accuracy: 0.7365 - val_loss: 1.7271 - val_accuracy: 0.6662 - lr: 1.0000e-06\n",
      "Epoch 85/125\n",
      "92/92 [==============================] - 1s 14ms/step - loss: 1.4806 - accuracy: 0.7259 - val_loss: 1.7328 - val_accuracy: 0.6594 - lr: 1.0000e-06\n",
      "Epoch 86/125\n",
      "92/92 [==============================] - 1s 14ms/step - loss: 1.4664 - accuracy: 0.7279 - val_loss: 1.7266 - val_accuracy: 0.6662 - lr: 1.0000e-06\n",
      "Epoch 87/125\n",
      "92/92 [==============================] - 1s 14ms/step - loss: 1.4590 - accuracy: 0.7355 - val_loss: 1.7304 - val_accuracy: 0.6621 - lr: 1.0000e-06\n",
      "Epoch 88/125\n",
      "92/92 [==============================] - 1s 14ms/step - loss: 1.4826 - accuracy: 0.7248 - val_loss: 1.7481 - val_accuracy: 0.6607 - lr: 1.0000e-06\n",
      "Epoch 89/125\n",
      "92/92 [==============================] - 1s 14ms/step - loss: 1.4792 - accuracy: 0.7361 - val_loss: 1.7467 - val_accuracy: 0.6580 - lr: 1.0000e-06\n",
      "Epoch 90/125\n",
      "92/92 [==============================] - 1s 14ms/step - loss: 1.4799 - accuracy: 0.7214 - val_loss: 1.7352 - val_accuracy: 0.6635 - lr: 1.0000e-06\n",
      "Epoch 91/125\n",
      "92/92 [==============================] - 1s 14ms/step - loss: 1.4768 - accuracy: 0.7259 - val_loss: 1.7390 - val_accuracy: 0.6621 - lr: 1.0000e-06\n",
      "Epoch 92/125\n",
      "92/92 [==============================] - 1s 14ms/step - loss: 1.4785 - accuracy: 0.7201 - val_loss: 1.7420 - val_accuracy: 0.6621 - lr: 1.0000e-06\n",
      "Epoch 93/125\n",
      "92/92 [==============================] - 1s 14ms/step - loss: 1.4859 - accuracy: 0.7211 - val_loss: 1.7331 - val_accuracy: 0.6648 - lr: 1.0000e-06\n",
      "Epoch 94/125\n",
      "92/92 [==============================] - 1s 15ms/step - loss: 1.4666 - accuracy: 0.7317 - val_loss: 1.7334 - val_accuracy: 0.6689 - lr: 1.0000e-06\n",
      "Epoch 95/125\n",
      "92/92 [==============================] - 1s 14ms/step - loss: 1.4690 - accuracy: 0.7337 - val_loss: 1.7495 - val_accuracy: 0.6553 - lr: 1.0000e-06\n",
      "Epoch 96/125\n",
      "92/92 [==============================] - 1s 14ms/step - loss: 1.4624 - accuracy: 0.7368 - val_loss: 1.7461 - val_accuracy: 0.6566 - lr: 1.0000e-06\n",
      "Epoch 97/125\n",
      "92/92 [==============================] - 1s 14ms/step - loss: 1.4647 - accuracy: 0.7320 - val_loss: 1.7379 - val_accuracy: 0.6607 - lr: 1.0000e-06\n",
      "Epoch 98/125\n",
      "92/92 [==============================] - 1s 14ms/step - loss: 1.4511 - accuracy: 0.7368 - val_loss: 1.7293 - val_accuracy: 0.6635 - lr: 1.0000e-06\n",
      "Epoch 99/125\n",
      "92/92 [==============================] - 1s 14ms/step - loss: 1.4755 - accuracy: 0.7300 - val_loss: 1.7429 - val_accuracy: 0.6594 - lr: 1.0000e-06\n",
      "Epoch 100/125\n",
      "92/92 [==============================] - 1s 14ms/step - loss: 1.4682 - accuracy: 0.7300 - val_loss: 1.7312 - val_accuracy: 0.6621 - lr: 1.0000e-06\n",
      "Epoch 101/125\n",
      "92/92 [==============================] - 1s 14ms/step - loss: 1.4830 - accuracy: 0.7242 - val_loss: 1.7372 - val_accuracy: 0.6580 - lr: 1.0000e-06\n",
      "Epoch 102/125\n",
      "92/92 [==============================] - 1s 14ms/step - loss: 1.4728 - accuracy: 0.7259 - val_loss: 1.7460 - val_accuracy: 0.6635 - lr: 1.0000e-06\n",
      "Epoch 103/125\n",
      "92/92 [==============================] - 1s 14ms/step - loss: 1.4741 - accuracy: 0.7262 - val_loss: 1.7409 - val_accuracy: 0.6607 - lr: 1.0000e-06\n",
      "Epoch 104/125\n",
      "92/92 [==============================] - 1s 14ms/step - loss: 1.4871 - accuracy: 0.7272 - val_loss: 1.7352 - val_accuracy: 0.6621 - lr: 1.0000e-06\n",
      "Epoch 105/125\n",
      "92/92 [==============================] - 1s 14ms/step - loss: 1.4567 - accuracy: 0.7382 - val_loss: 1.7482 - val_accuracy: 0.6635 - lr: 1.0000e-06\n",
      "Epoch 106/125\n",
      "92/92 [==============================] - 1s 14ms/step - loss: 1.4658 - accuracy: 0.7242 - val_loss: 1.7331 - val_accuracy: 0.6635 - lr: 1.0000e-06\n",
      "Epoch 107/125\n",
      "92/92 [==============================] - 1s 14ms/step - loss: 1.4757 - accuracy: 0.7375 - val_loss: 1.7385 - val_accuracy: 0.6607 - lr: 1.0000e-06\n",
      "Epoch 108/125\n",
      "92/92 [==============================] - 1s 14ms/step - loss: 1.4759 - accuracy: 0.7320 - val_loss: 1.7485 - val_accuracy: 0.6607 - lr: 1.0000e-06\n",
      "Epoch 109/125\n",
      "92/92 [==============================] - 1s 14ms/step - loss: 1.4552 - accuracy: 0.7348 - val_loss: 1.7356 - val_accuracy: 0.6621 - lr: 1.0000e-06\n",
      "Epoch 110/125\n",
      "92/92 [==============================] - 1s 14ms/step - loss: 1.4818 - accuracy: 0.7255 - val_loss: 1.7327 - val_accuracy: 0.6580 - lr: 1.0000e-06\n",
      "Epoch 111/125\n",
      "92/92 [==============================] - 1s 15ms/step - loss: 1.4773 - accuracy: 0.7337 - val_loss: 1.7384 - val_accuracy: 0.6635 - lr: 1.0000e-06\n",
      "Epoch 112/125\n",
      "92/92 [==============================] - 1s 14ms/step - loss: 1.4612 - accuracy: 0.7344 - val_loss: 1.7445 - val_accuracy: 0.6621 - lr: 1.0000e-06\n",
      "Epoch 113/125\n",
      "92/92 [==============================] - 1s 14ms/step - loss: 1.4758 - accuracy: 0.7238 - val_loss: 1.7447 - val_accuracy: 0.6539 - lr: 1.0000e-06\n",
      "Epoch 114/125\n",
      "92/92 [==============================] - 1s 14ms/step - loss: 1.4649 - accuracy: 0.7327 - val_loss: 1.7398 - val_accuracy: 0.6594 - lr: 1.0000e-06\n",
      "Epoch 115/125\n",
      "92/92 [==============================] - 1s 14ms/step - loss: 1.4536 - accuracy: 0.7324 - val_loss: 1.7356 - val_accuracy: 0.6621 - lr: 1.0000e-06\n",
      "Epoch 116/125\n",
      "92/92 [==============================] - 1s 14ms/step - loss: 1.4857 - accuracy: 0.7238 - val_loss: 1.7303 - val_accuracy: 0.6635 - lr: 1.0000e-06\n",
      "Epoch 117/125\n",
      "92/92 [==============================] - 1s 14ms/step - loss: 1.4384 - accuracy: 0.7406 - val_loss: 1.7264 - val_accuracy: 0.6580 - lr: 1.0000e-06\n",
      "Epoch 118/125\n",
      "92/92 [==============================] - 1s 14ms/step - loss: 1.4702 - accuracy: 0.7255 - val_loss: 1.7177 - val_accuracy: 0.6553 - lr: 1.0000e-06\n",
      "Epoch 119/125\n",
      "92/92 [==============================] - 1s 14ms/step - loss: 1.4647 - accuracy: 0.7310 - val_loss: 1.7289 - val_accuracy: 0.6662 - lr: 1.0000e-06\n",
      "Epoch 120/125\n",
      "92/92 [==============================] - 1s 14ms/step - loss: 1.4742 - accuracy: 0.7262 - val_loss: 1.7307 - val_accuracy: 0.6648 - lr: 1.0000e-06\n",
      "Epoch 121/125\n",
      "92/92 [==============================] - 1s 14ms/step - loss: 1.4701 - accuracy: 0.7290 - val_loss: 1.7260 - val_accuracy: 0.6676 - lr: 1.0000e-06\n",
      "Epoch 122/125\n",
      "92/92 [==============================] - 1s 14ms/step - loss: 1.4713 - accuracy: 0.7286 - val_loss: 1.7374 - val_accuracy: 0.6662 - lr: 1.0000e-06\n",
      "Epoch 123/125\n",
      "92/92 [==============================] - 1s 14ms/step - loss: 1.4609 - accuracy: 0.7272 - val_loss: 1.7365 - val_accuracy: 0.6607 - lr: 1.0000e-06\n",
      "Epoch 124/125\n",
      "92/92 [==============================] - 1s 14ms/step - loss: 1.4570 - accuracy: 0.7266 - val_loss: 1.7379 - val_accuracy: 0.6635 - lr: 1.0000e-06\n",
      "Epoch 125/125\n",
      "92/92 [==============================] - 1s 14ms/step - loss: 1.4493 - accuracy: 0.7361 - val_loss: 1.7464 - val_accuracy: 0.6566 - lr: 1.0000e-06\n"
     ]
    }
   ],
   "source": [
    "# test \n",
    "import numpy as np\n",
    "from sklearn.model_selection import train_test_split\n",
    "from tensorflow.keras.models import Model\n",
    "from tensorflow.keras.layers import Input, Conv2D, MaxPooling2D, Flatten, Dense, Dropout, Concatenate, GlobalAveragePooling2D, BatchNormalization\n",
    "from tensorflow.keras.optimizers import Adam\n",
    "from tensorflow.keras.regularizers import l2, l1\n",
    "from tensorflow.keras.callbacks import ReduceLROnPlateau\n",
    "from tensorflow.keras.preprocessing.image import ImageDataGenerator\n",
    "import pandas as pd\n",
    "\n",
    "X_train, X_test, y_train, y_test = train_test_split(X, y, test_size=0.2, random_state=983)\n",
    "display(X_train.shape)\n",
    "display(X_test.shape)\n",
    "display(y_train.shape)\n",
    "display(y_test.shape)\n",
    "\n",
    "# Data augmentation\n",
    "datagen = ImageDataGenerator(\n",
    "    rotation_range=20,\n",
    "    width_shift_range=0.2,\n",
    "    height_shift_range=0.2,\n",
    "    horizontal_flip=True\n",
    ")\n",
    "\n",
    "rgb_input = Input(shape=(64, 64, 3))\n",
    "depth_input = Input(shape=(64, 64, 1))\n",
    "\n",
    "# RGB layers\n",
    "rgb_stream = Conv2D(64, kernel_size=(3, 3), activation='relu', padding='same', kernel_regularizer=l1(0.001), strides=(1,1))(rgb_input)\n",
    "rgb_stream = BatchNormalization()(rgb_stream)\n",
    "rgb_stream = MaxPooling2D(pool_size=(2, 2))(rgb_stream)\n",
    "# rgb_stream = Conv2D(64, kernel_size=(2, 2), activation='relu', padding='same', kernel_regularizer=l1(0.001), strides=(1,1))(rgb_stream)\n",
    "# rgb_stream = BatchNormalization()(rgb_stream)\n",
    "# rgb_stream = MaxPooling2D(pool_size=(2, 2))(rgb_stream)\n",
    "rgb_stream = Conv2D(64, kernel_size=(2, 2), activation='relu', padding='same', kernel_regularizer=l2(0.001), strides=(1,1))(rgb_stream)\n",
    "rgb_stream = BatchNormalization()(rgb_stream)\n",
    "rgb_stream = MaxPooling2D(pool_size=(2, 2))(rgb_stream)\n",
    "rgb_stream = Conv2D(64, kernel_size=(2, 2), activation='relu', padding='same', kernel_regularizer=l2(0.001), strides=(1,1))(rgb_stream)\n",
    "rgb_stream = BatchNormalization()(rgb_stream)\n",
    "rgb_stream = MaxPooling2D(pool_size=(2, 2))(rgb_stream)\n",
    "\n",
    "# Depth layers\n",
    "depth_stream = Conv2D(64, kernel_size=(3, 3), activation='relu', padding='same', kernel_regularizer=l1(0.001), strides=(1,1))(depth_input)\n",
    "depth_stream = BatchNormalization()(depth_stream)\n",
    "depth_stream = MaxPooling2D(pool_size=(2, 2))(depth_stream)\n",
    "# depth_stream = Conv2D(64, kernel_size=(2, 2), activation='relu', padding='same', kernel_regularizer=l1(0.001), strides=(1,1))(depth_stream)\n",
    "# depth_stream = BatchNormalization()(depth_stream)\n",
    "# depth_stream = MaxPooling2D(pool_size=(2, 2))(depth_stream)\n",
    "depth_stream = Conv2D(64, kernel_size=(2, 2), activation='relu', padding='same', kernel_regularizer=l2(0.001), strides=(1,1))(depth_stream)\n",
    "depth_stream = BatchNormalization()(depth_stream)\n",
    "depth_stream = MaxPooling2D(pool_size=(2, 2))(depth_stream)\n",
    "depth_stream = Conv2D(64, kernel_size=(2, 2), activation='relu', padding='same', kernel_regularizer=l2(0.001), strides=(1,1))(depth_stream)\n",
    "depth_stream = BatchNormalization()(depth_stream)\n",
    "depth_stream = MaxPooling2D(pool_size=(2, 2))(depth_stream)\n",
    "\n",
    "combined = Concatenate()([rgb_stream, depth_stream])\n",
    "combined = Conv2D(128, kernel_size=(2, 2), activation='relu', padding='same', kernel_regularizer=l2(0.001), strides=(1, 1))(combined)\n",
    "combined = Dropout(0.3)(combined)\n",
    "combined = BatchNormalization()(combined)\n",
    "combined = GlobalAveragePooling2D()(combined)\n",
    "combined = Dropout(0.25)(combined)\n",
    "# combined = Dense(1024, activation='relu', kernel_regularizer=l2(0.001))(combined)\n",
    "# combined = Dropout(0.3)(combined)\n",
    "combined = Dense(128, activation='relu', kernel_regularizer=l2(0.001))(combined)\n",
    "combined = Dropout(0.2)(combined)\n",
    "combined = Dense(128, activation='relu', kernel_regularizer=l2(0.001))(combined)\n",
    "combined = Dropout(0.2)(combined)\n",
    "combined = Dense(128, activation='relu', kernel_regularizer=l2(0.001))(combined)\n",
    "\n",
    "output_layer = Dense(10, activation='softmax')(combined)\n",
    "\n",
    "model = Model(inputs=[rgb_input, depth_input], outputs=output_layer)\n",
    "model.compile(optimizer=Adam(learning_rate=0.0001), loss='categorical_crossentropy', metrics=['accuracy'])\n",
    "\n",
    "X_train_rgb = X_train[:, :, :, :3]\n",
    "X_train_depth = X_train[:, :, :, 3:]\n",
    "X_test_rgb = X_test[:, :, :, :3]\n",
    "X_test_depth = X_test[:, :, :, 3:]\n",
    "\n",
    "lr_scheduler = ReduceLROnPlateau(monitor='val_loss', factor=0.5, patience=5, min_lr=1e-6)\n",
    "\n",
    "# Train the model with data augmentation\n",
    "batch_size = 32\n",
    "epochs = 125\n",
    "history = model.fit(\n",
    "    datagen.flow([X_train_rgb, X_train_depth], y_train, batch_size=batch_size),\n",
    "    validation_data=([X_test_rgb, X_test_depth], y_test),\n",
    "    epochs=epochs,\n",
    "    callbacks=[lr_scheduler]\n",
    ")"
   ]
  },
  {
   "cell_type": "code",
   "execution_count": 17,
   "metadata": {},
   "outputs": [
    {
     "name": "stdout",
     "output_type": "stream",
     "text": [
      "23/23 [==============================] - 0s 2ms/step - loss: 1.7464 - accuracy: 0.6566\n",
      "Test Loss: 1.74640953540802\n",
      "Test Accuracy: 0.6566347479820251\n"
     ]
    }
   ],
   "source": [
    "test_loss, test_acc = model.evaluate([X_test_rgb, X_test_depth], y_test)\n",
    "print(f'Test Loss: {test_loss}')\n",
    "print(f'Test Accuracy: {test_acc}')\n"
   ]
  },
  {
   "cell_type": "code",
   "execution_count": 18,
   "metadata": {},
   "outputs": [
    {
     "data": {
      "image/png": "[encoded data removed]",
      "text/plain": [
       "<Figure size 640x480 with 1 Axes>"
      ]
     },
     "metadata": {},
     "output_type": "display_data"
    },
    {
     "data": {
      "image/png": "[encoded data removed]",
      "text/plain": [
       "<Figure size 640x480 with 1 Axes>"
      ]
     },
     "metadata": {},
     "output_type": "display_data"
    }
   ],
   "source": [
    "def plot_loss_metrics(history):\n",
    "  plt.plot(history.history['loss'])\n",
    "  plt.plot(history.history['val_loss'])\n",
    "  plt.title('Model Loss')\n",
    "  plt.ylabel('Loss')\n",
    "  plt.xlabel('Epoch')\n",
    "  plt.legend(['Train', 'Validation'], loc='upper left')\n",
    "  plt.show()\n",
    "\n",
    "  plt.plot(history.history['accuracy'])\n",
    "  plt.plot(history.history['val_accuracy'])\n",
    "  plt.title('Model accuracy')\n",
    "  plt.ylabel('Accuracy')\n",
    "  plt.xlabel('Epoch')\n",
    "  plt.legend(['Train', 'Validation'], loc='upper left')\n",
    "  plt.show()\n",
    "\n",
    "\n",
    "plot_loss_metrics(history)"
   ]
  }
 ],
 "metadata": {
  "kernelspec": {
   "display_name": "Python 3 (ipykernel)",
   "language": "python",
   "name": "python3"
  },
  "language_info": {
   "codemirror_mode": {
    "name": "ipython",
    "version": 3
   },
   "file_extension": ".py",
   "mimetype": "text/x-python",
   "name": "python",
   "nbconvert_exporter": "python",
   "pygments_lexer": "ipython3",
   "version": "3.11.0rc1"
  },
  "orig_nbformat": 4,
  "vscode": {
   "interpreter": {
    "hash": "1a1af0ee75eeea9e2e1ee996c87e7a2b11a0bebd85af04bb136d915cefc0abce"
   }
  }
 },
 "nbformat": 4,
 "nbformat_minor": 2
}
